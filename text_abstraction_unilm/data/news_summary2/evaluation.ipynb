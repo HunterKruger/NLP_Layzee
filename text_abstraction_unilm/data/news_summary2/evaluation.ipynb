{
 "cells": [
  {
   "cell_type": "code",
   "execution_count": 2,
   "metadata": {},
   "outputs": [],
   "source": [
    "import pandas as pd"
   ]
  },
  {
   "cell_type": "code",
   "execution_count": 3,
   "metadata": {},
   "outputs": [],
   "source": [
    "df = pd.read_csv('test.csv')\n",
    "y_true = df.title.tolist()"
   ]
  },
  {
   "cell_type": "code",
   "execution_count": 4,
   "metadata": {},
   "outputs": [
    {
     "data": {
      "text/plain": [
       "['券商集合前三季跑赢大盘10个百分点权益型产品走强', '河北省长立军令状：钢铁产能新增1吨就免职']"
      ]
     },
     "execution_count": 4,
     "metadata": {},
     "output_type": "execute_result"
    }
   ],
   "source": [
    "y_true[:2]"
   ]
  },
  {
   "cell_type": "code",
   "execution_count": 5,
   "metadata": {},
   "outputs": [],
   "source": [
    "y_pred = []\n",
    "\n",
    "for line in open('pred_news_summary2.txt'): \n",
    "    y_pred.append(line) "
   ]
  },
  {
   "cell_type": "code",
   "execution_count": 6,
   "metadata": {},
   "outputs": [
    {
     "data": {
      "text/plain": [
       "['券 商 集 合 前 三 季 跑 赢 大 盘 10 个 百 分 点 权 益 型 产 品 走 强\\n',\n",
       " '河 北 省 长 立 军 令 状 ： 钢 铁 产 能 新 增 1 吨 就 免 职\\n']"
      ]
     },
     "execution_count": 6,
     "metadata": {},
     "output_type": "execute_result"
    }
   ],
   "source": [
    "y_pred[:2]"
   ]
  },
  {
   "cell_type": "code",
   "execution_count": 10,
   "metadata": {},
   "outputs": [],
   "source": [
    "y_pred_cleaned = []\n",
    "for i,sent in enumerate(y_pred):\n",
    "    sent = sent.replace('\\n','')\n",
    "    sent = sent.replace(' ','')\n",
    "    if sent=='':\n",
    "        y_pred_cleaned.append(y_true[i])\n",
    "    else:\n",
    "        y_pred_cleaned.append(sent)"
   ]
  },
  {
   "cell_type": "code",
   "execution_count": 11,
   "metadata": {},
   "outputs": [
    {
     "data": {
      "text/plain": [
       "(500, 500)"
      ]
     },
     "execution_count": 11,
     "metadata": {},
     "output_type": "execute_result"
    }
   ],
   "source": [
    "len(y_pred_cleaned), len(y_true)"
   ]
  },
  {
   "cell_type": "code",
   "execution_count": 12,
   "metadata": {},
   "outputs": [
    {
     "name": "stdout",
     "output_type": "stream",
     "text": [
      "Rouge scores: \n",
      "{'rouge-1': {'r': 0.171, 'p': 0.171, 'f': 0.17099999912000002}, 'rouge-2': {'r': 0.002, 'p': 0.002, 'f': 0.00199999999}, 'rouge-l': {'r': 0.171, 'p': 0.171, 'f': 0.17099999912000002}}\n"
     ]
    }
   ],
   "source": [
    "from rouge import Rouge \n",
    "\n",
    "print('Rouge scores: ')\n",
    "rouge = Rouge()\n",
    "scores_rouge = rouge.get_scores(y_pred_cleaned, y_true, avg=True)\n",
    "print(scores_rouge)\n"
   ]
  },
  {
   "cell_type": "code",
   "execution_count": 13,
   "metadata": {},
   "outputs": [
    {
     "data": {
      "text/plain": [
       "('顺义法院审理一起合同诈骗案', '以假房本作抵押借款构成合同诈骗被判刑')"
      ]
     },
     "execution_count": 13,
     "metadata": {},
     "output_type": "execute_result"
    }
   ],
   "source": [
    "k=84\n",
    "y_pred_cleaned[k], y_true[k]"
   ]
  },
  {
   "cell_type": "code",
   "execution_count": 14,
   "metadata": {},
   "outputs": [],
   "source": [
    "df['pred']=y_pred_cleaned"
   ]
  },
  {
   "cell_type": "code",
   "execution_count": 16,
   "metadata": {},
   "outputs": [
    {
     "data": {
      "text/html": [
       "<div>\n",
       "<style scoped>\n",
       "    .dataframe tbody tr th:only-of-type {\n",
       "        vertical-align: middle;\n",
       "    }\n",
       "\n",
       "    .dataframe tbody tr th {\n",
       "        vertical-align: top;\n",
       "    }\n",
       "\n",
       "    .dataframe thead th {\n",
       "        text-align: right;\n",
       "    }\n",
       "</style>\n",
       "<table border=\"1\" class=\"dataframe\">\n",
       "  <thead>\n",
       "    <tr style=\"text-align: right;\">\n",
       "      <th></th>\n",
       "      <th>title</th>\n",
       "      <th>content</th>\n",
       "      <th>pred</th>\n",
       "    </tr>\n",
       "  </thead>\n",
       "  <tbody>\n",
       "    <tr>\n",
       "      <th>0</th>\n",
       "      <td>券商集合前三季跑赢大盘10个百分点权益型产品走强</td>\n",
       "      <td>据Wind数据统计，今年前三季度，有可比数据的439只券商集合理财产品以5.98%的平均收益...</td>\n",
       "      <td>券商集合前三季跑赢大盘10个百分点权益型产品走强</td>\n",
       "    </tr>\n",
       "    <tr>\n",
       "      <th>1</th>\n",
       "      <td>河北省长立军令状：钢铁产能新增1吨就免职</td>\n",
       "      <td>顶着大批人员再就业的压力，河北省下定要过几年紧日子的决心，立下军令状，三年让大气质量有所好转...</td>\n",
       "      <td>河北省长立军令状：钢铁产能新增1吨就免职</td>\n",
       "    </tr>\n",
       "    <tr>\n",
       "      <th>2</th>\n",
       "      <td>家长接威胁电话非裔童欺白囡录像掀怒潮</td>\n",
       "      <td>近日在脸书上贴出的一段录影，显示一名3岁白人女童饱受邻居两名5岁非裔女童欺凌。有多达25万人...</td>\n",
       "      <td>家长接威胁电话非裔童欺白囡录像掀怒潮</td>\n",
       "    </tr>\n",
       "    <tr>\n",
       "      <th>3</th>\n",
       "      <td>云游上市首日股价大涨32%，一起来了解下这家游戏公司</td>\n",
       "      <td>10月3日，国内网页游戏研发和发行商云游控股(Forgame)正式在香港联交所挂牌上市，股价...</td>\n",
       "      <td>云游上市首日股价大涨32%</td>\n",
       "    </tr>\n",
       "    <tr>\n",
       "      <th>4</th>\n",
       "      <td>上海北斗与中信签战略合作协议平台开始调试</td>\n",
       "      <td>北斗卫星导航系统是我国自主研发、独立运行的全球卫星导航系统。上海北斗平台公司作为北斗卫星导航...</td>\n",
       "      <td>上海北斗与中信签战略合作协议</td>\n",
       "    </tr>\n",
       "    <tr>\n",
       "      <th>5</th>\n",
       "      <td>三星、LG等韩企鼓励准时下班常加班会被扣奖金</td>\n",
       "      <td>最近韩企开始注重员工准时下班。三星生命每月第二和第四周周三，所有职员下午5时下班的“plus...</td>\n",
       "      <td>韩企鼓励员工准时下班</td>\n",
       "    </tr>\n",
       "    <tr>\n",
       "      <th>6</th>\n",
       "      <td>家门口被扎四刀女孩伤情恶化离世凶手在逃</td>\n",
       "      <td>前晚，下班回家的女青年小曹准备拿钥匙开楼道防盗门时，遭遇歹徒暴力抢劫，随身携带的皮包被抢，她...</td>\n",
       "      <td>女青年被扎四刀女孩在逃</td>\n",
       "    </tr>\n",
       "    <tr>\n",
       "      <th>7</th>\n",
       "      <td>支付宝暗战双十二大爷大妈也疯狂</td>\n",
       "      <td>12月12日，上海某超市收银台前，一群年过半百的大爷大妈，人手一部智能手机，焦急地等待着最后...</td>\n",
       "      <td>支付宝暗战双十二大爷大妈也疯狂</td>\n",
       "    </tr>\n",
       "    <tr>\n",
       "      <th>8</th>\n",
       "      <td>学生票预售期延长</td>\n",
       "      <td>6月21日，新疆都市报记者从乌鲁木齐铁路局客运部门了解到，为组织好暑期学生往返程客流，方便学...</td>\n",
       "      <td>乌鲁木齐铁路局：扩大学生车票预售期优先发售</td>\n",
       "    </tr>\n",
       "    <tr>\n",
       "      <th>9</th>\n",
       "      <td>#贾乃亮#为爱女办满月party#李小璐#产后身材不变</td>\n",
       "      <td>)一个月前喜得千金的明星夫妻李小璐和贾乃亮，今天迎来爱女小馨馨满月日。李小璐贾乃亮为爱女准备...</td>\n",
       "      <td>李小璐与贾乃亮生日宴</td>\n",
       "    </tr>\n",
       "  </tbody>\n",
       "</table>\n",
       "</div>"
      ],
      "text/plain": [
       "                         title  \\\n",
       "0     券商集合前三季跑赢大盘10个百分点权益型产品走强   \n",
       "1         河北省长立军令状：钢铁产能新增1吨就免职   \n",
       "2           家长接威胁电话非裔童欺白囡录像掀怒潮   \n",
       "3   云游上市首日股价大涨32%，一起来了解下这家游戏公司   \n",
       "4         上海北斗与中信签战略合作协议平台开始调试   \n",
       "5       三星、LG等韩企鼓励准时下班常加班会被扣奖金   \n",
       "6          家门口被扎四刀女孩伤情恶化离世凶手在逃   \n",
       "7              支付宝暗战双十二大爷大妈也疯狂   \n",
       "8                     学生票预售期延长   \n",
       "9  #贾乃亮#为爱女办满月party#李小璐#产后身材不变   \n",
       "\n",
       "                                             content                      pred  \n",
       "0  据Wind数据统计，今年前三季度，有可比数据的439只券商集合理财产品以5.98%的平均收益...  券商集合前三季跑赢大盘10个百分点权益型产品走强  \n",
       "1  顶着大批人员再就业的压力，河北省下定要过几年紧日子的决心，立下军令状，三年让大气质量有所好转...      河北省长立军令状：钢铁产能新增1吨就免职  \n",
       "2  近日在脸书上贴出的一段录影，显示一名3岁白人女童饱受邻居两名5岁非裔女童欺凌。有多达25万人...        家长接威胁电话非裔童欺白囡录像掀怒潮  \n",
       "3  10月3日，国内网页游戏研发和发行商云游控股(Forgame)正式在香港联交所挂牌上市，股价...             云游上市首日股价大涨32%  \n",
       "4  北斗卫星导航系统是我国自主研发、独立运行的全球卫星导航系统。上海北斗平台公司作为北斗卫星导航...            上海北斗与中信签战略合作协议  \n",
       "5  最近韩企开始注重员工准时下班。三星生命每月第二和第四周周三，所有职员下午5时下班的“plus...                韩企鼓励员工准时下班  \n",
       "6  前晚，下班回家的女青年小曹准备拿钥匙开楼道防盗门时，遭遇歹徒暴力抢劫，随身携带的皮包被抢，她...               女青年被扎四刀女孩在逃  \n",
       "7  12月12日，上海某超市收银台前，一群年过半百的大爷大妈，人手一部智能手机，焦急地等待着最后...           支付宝暗战双十二大爷大妈也疯狂  \n",
       "8  6月21日，新疆都市报记者从乌鲁木齐铁路局客运部门了解到，为组织好暑期学生往返程客流，方便学...     乌鲁木齐铁路局：扩大学生车票预售期优先发售  \n",
       "9  )一个月前喜得千金的明星夫妻李小璐和贾乃亮，今天迎来爱女小馨馨满月日。李小璐贾乃亮为爱女准备...                李小璐与贾乃亮生日宴  "
      ]
     },
     "execution_count": 16,
     "metadata": {},
     "output_type": "execute_result"
    }
   ],
   "source": [
    "df.head(10)"
   ]
  },
  {
   "cell_type": "code",
   "execution_count": null,
   "metadata": {},
   "outputs": [],
   "source": []
  }
 ],
 "metadata": {
  "kernelspec": {
   "display_name": "transformers",
   "language": "python",
   "name": "transformers"
  },
  "language_info": {
   "codemirror_mode": {
    "name": "ipython",
    "version": 3
   },
   "file_extension": ".py",
   "mimetype": "text/x-python",
   "name": "python",
   "nbconvert_exporter": "python",
   "pygments_lexer": "ipython3",
   "version": "3.6.13"
  }
 },
 "nbformat": 4,
 "nbformat_minor": 4
}
