{
 "cells": [
  {
   "cell_type": "code",
   "execution_count": 28,
   "metadata": {},
   "outputs": [],
   "source": [
    "import json\n",
    "import csv "
   ]
  },
  {
   "cell_type": "code",
   "execution_count": 29,
   "metadata": {},
   "outputs": [],
   "source": [
    "csv_path = 'test.csv'\n",
    "json_path = 'test.json'"
   ]
  },
  {
   "cell_type": "code",
   "execution_count": 34,
   "metadata": {},
   "outputs": [],
   "source": [
    "def csv2json(csv_path,json_path):\n",
    "    datas = []\n",
    "\n",
    "    with open(csv_path) as csv_file:\n",
    "        csv_reader = csv.DictReader(csv_file)\n",
    "        for rows in csv_reader:\n",
    "            data = {}\n",
    "            title = rows['title']\n",
    "            content = rows['content']\n",
    "            data['title'] = title\n",
    "            data['abst'] = content\n",
    "            datas.append(data)\n",
    "\n",
    "    with open(json_path, 'w') as json_file:\n",
    "        for data in datas:\n",
    "            json_file.write(json.dumps(data, ensure_ascii=False))\n",
    "            json_file.write('\\n')"
   ]
  },
  {
   "cell_type": "code",
   "execution_count": 35,
   "metadata": {},
   "outputs": [],
   "source": [
    "csv2json('train.csv','train.json')\n",
    "csv2json('validation.csv','validation.json')\n",
    "csv2json('test.csv','test.json')"
   ]
  },
  {
   "cell_type": "code",
   "execution_count": null,
   "metadata": {},
   "outputs": [],
   "source": []
  }
 ],
 "metadata": {
  "kernelspec": {
   "display_name": "py36",
   "language": "python",
   "name": "py36"
  },
  "language_info": {
   "codemirror_mode": {
    "name": "ipython",
    "version": 3
   },
   "file_extension": ".py",
   "mimetype": "text/x-python",
   "name": "python",
   "nbconvert_exporter": "python",
   "pygments_lexer": "ipython3",
   "version": "3.6.12"
  }
 },
 "nbformat": 4,
 "nbformat_minor": 4
}
