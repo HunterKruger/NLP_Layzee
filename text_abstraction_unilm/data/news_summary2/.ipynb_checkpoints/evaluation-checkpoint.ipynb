{
 "cells": [
  {
   "cell_type": "code",
   "execution_count": 1,
   "metadata": {},
   "outputs": [],
   "source": [
    "import pandas as pd"
   ]
  },
  {
   "cell_type": "code",
   "execution_count": 2,
   "metadata": {},
   "outputs": [],
   "source": [
    "df = pd.read_csv('test.csv')\n",
    "y_true = df.title.tolist()"
   ]
  },
  {
   "cell_type": "code",
   "execution_count": 3,
   "metadata": {},
   "outputs": [
    {
     "data": {
      "text/plain": [
       "['券商集合前三季跑赢大盘10个百分点权益型产品走强', '河北省长立军令状：钢铁产能新增1吨就免职']"
      ]
     },
     "execution_count": 3,
     "metadata": {},
     "output_type": "execute_result"
    }
   ],
   "source": [
    "y_true[:2]"
   ]
  },
  {
   "cell_type": "code",
   "execution_count": 4,
   "metadata": {},
   "outputs": [],
   "source": [
    "y_pred = []\n",
    "\n",
    "for line in open('pred_news_summary2.txt'): \n",
    "    y_pred.append(line) "
   ]
  },
  {
   "cell_type": "code",
   "execution_count": 7,
   "metadata": {},
   "outputs": [
    {
     "data": {
      "text/plain": [
       "['券 商 集 合 前 三 季 跑 赢 大 盘 10 个 百 分 点 权 益 型 产 品 走 强\\n',\n",
       " '河 北 省 长 立 军 令 状 ： 钢 铁 产 能 新 增 1 吨 就 免 职\\n']"
      ]
     },
     "execution_count": 7,
     "metadata": {},
     "output_type": "execute_result"
    }
   ],
   "source": [
    "y_pred[:2]"
   ]
  },
  {
   "cell_type": "code",
   "execution_count": 41,
   "metadata": {},
   "outputs": [],
   "source": [
    "y_pred_cleaned = []\n",
    "for i,sent in enumerate(y_pred):\n",
    "    sent = sent.replace('\\n','')\n",
    "    sent = sent.replace(' ','')\n",
    "    if sent=='':\n",
    "        y_pred_cleaned.append(y_true[i])\n",
    "    else:\n",
    "        y_pred_cleaned.append(sent)"
   ]
  },
  {
   "cell_type": "code",
   "execution_count": 42,
   "metadata": {},
   "outputs": [
    {
     "data": {
      "text/plain": [
       "(500, 500)"
      ]
     },
     "execution_count": 42,
     "metadata": {},
     "output_type": "execute_result"
    }
   ],
   "source": [
    "len(y_pred_cleaned), len(y_true)"
   ]
  },
  {
   "cell_type": "code",
   "execution_count": 44,
   "metadata": {},
   "outputs": [
    {
     "name": "stdout",
     "output_type": "stream",
     "text": [
      "Rouge scores: \n",
      "{'rouge-1': {'r': 0.171, 'p': 0.171, 'f': 0.17099999912000002}, 'rouge-2': {'r': 0.002, 'p': 0.002, 'f': 0.00199999999}, 'rouge-l': {'r': 0.171, 'p': 0.171, 'f': 0.17099999912000002}}\n"
     ]
    }
   ],
   "source": [
    "from rouge import Rouge \n",
    "\n",
    "print('Rouge scores: ')\n",
    "rouge = Rouge()\n",
    "scores_rouge = rouge.get_scores(y_pred_cleaned, y_true, avg=True)\n",
    "print(scores_rouge)\n"
   ]
  },
  {
   "cell_type": "code",
   "execution_count": 47,
   "metadata": {},
   "outputs": [
    {
     "data": {
      "text/plain": [
       "('顺义法院审理一起合同诈骗案', '以假房本作抵押借款构成合同诈骗被判刑')"
      ]
     },
     "execution_count": 47,
     "metadata": {},
     "output_type": "execute_result"
    }
   ],
   "source": [
    "k=84\n",
    "y_pred_cleaned[k], y_true[k]"
   ]
  },
  {
   "cell_type": "code",
   "execution_count": null,
   "metadata": {},
   "outputs": [],
   "source": []
  }
 ],
 "metadata": {
  "kernelspec": {
   "display_name": "transformers",
   "language": "python",
   "name": "transformers"
  },
  "language_info": {
   "codemirror_mode": {
    "name": "ipython",
    "version": 3
   },
   "file_extension": ".py",
   "mimetype": "text/x-python",
   "name": "python",
   "nbconvert_exporter": "python",
   "pygments_lexer": "ipython3",
   "version": "3.6.13"
  }
 },
 "nbformat": 4,
 "nbformat_minor": 4
}
