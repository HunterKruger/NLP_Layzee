{
 "cells": [
  {
   "cell_type": "code",
   "execution_count": 1,
   "metadata": {},
   "outputs": [],
   "source": [
    "import os\n",
    "import math\n",
    "import numpy as np\n",
    "import pandas as pd\n",
    "import tensorflow as tf\n",
    "from model import seq2seq\n",
    "import gensim\n",
    "from config import config\n",
    "\n",
    "\n",
    "import os\n",
    "import math\n",
    "import numpy as np\n",
    "import pandas as pd\n",
    "import tensorflow as tf\n",
    "\n",
    "from config import config\n",
    "from dataset import create_dataset, load_embedding\n",
    "from model import seq2seq\n",
    "\n",
    "\n",
    "os.environ['CUDA_VISIBLE_DEVICES'] = '-1'         # specify GPU usage  "
   ]
  },
  {
   "cell_type": "code",
   "execution_count": 2,
   "metadata": {},
   "outputs": [
    {
     "name": "stdout",
     "output_type": "stream",
     "text": [
      "WARNING:tensorflow:No training configuration found in the save file, so the model was *not* compiled. Compile it manually.\n",
      "Model: \"model_1\"\n",
      "_________________________________________________________________\n",
      "Layer (type)                 Output Shape              Param #   \n",
      "=================================================================\n",
      "encoder_inputs (InputLayer)  [(None, 100)]             0         \n",
      "_________________________________________________________________\n",
      "encoder_embedding (Embedding (None, 100, 300)          77976600  \n",
      "_________________________________________________________________\n",
      "encoder_lstm (LSTM)          [(None, 250), (None, 250) 551000    \n",
      "=================================================================\n",
      "Total params: 78,527,600\n",
      "Trainable params: 551,000\n",
      "Non-trainable params: 77,976,600\n",
      "_________________________________________________________________\n"
     ]
    }
   ],
   "source": [
    "encoder = tf.keras.models.load_model(config.ENCODER_PATH)\n",
    "encoder.summary()"
   ]
  },
  {
   "cell_type": "code",
   "execution_count": 3,
   "metadata": {},
   "outputs": [
    {
     "name": "stdout",
     "output_type": "stream",
     "text": [
      "WARNING:tensorflow:No training configuration found in the save file, so the model was *not* compiled. Compile it manually.\n",
      "Model: \"model_2\"\n",
      "__________________________________________________________________________________________________\n",
      "Layer (type)                    Output Shape         Param #     Connected to                     \n",
      "==================================================================================================\n",
      "decoder_inputs (InputLayer)     [(None, 30)]         0                                            \n",
      "__________________________________________________________________________________________________\n",
      "decoder_embedding (Embedding)   (None, 30, 300)      77976600    decoder_inputs[0][0]             \n",
      "__________________________________________________________________________________________________\n",
      "decoder_state_input_h (InputLay [(None, 250)]        0                                            \n",
      "__________________________________________________________________________________________________\n",
      "decoder_state_input_c (InputLay [(None, 250)]        0                                            \n",
      "__________________________________________________________________________________________________\n",
      "decoder_lstm (LSTM)             [(None, 30, 250), (N 551000      decoder_embedding[0][0]          \n",
      "                                                                 decoder_state_input_h[0][0]      \n",
      "                                                                 decoder_state_input_c[0][0]      \n",
      "__________________________________________________________________________________________________\n",
      "time_distributed (TimeDistribut (None, 30, 259922)   65240422    decoder_lstm[0][0]               \n",
      "==================================================================================================\n",
      "Total params: 143,768,022\n",
      "Trainable params: 65,791,422\n",
      "Non-trainable params: 77,976,600\n",
      "__________________________________________________________________________________________________\n"
     ]
    }
   ],
   "source": [
    "decoder = tf.keras.models.load_model(config.DECODER_PATH)\n",
    "decoder.summary()"
   ]
  },
  {
   "cell_type": "code",
   "execution_count": 4,
   "metadata": {},
   "outputs": [],
   "source": [
    "word2vec = load_embedding()"
   ]
  },
  {
   "cell_type": "code",
   "execution_count": 5,
   "metadata": {},
   "outputs": [
    {
     "name": "stderr",
     "output_type": "stream",
     "text": [
      "Building prefix dict from the default dictionary ...\n",
      "Loading model from cache /tmp/jieba.cache\n",
      "Loading model cost 1.061 seconds.\n",
      "Prefix dict has been built successfully.\n"
     ]
    }
   ],
   "source": [
    "test_df = pd.read_csv(config.TEST_FILE) \n",
    "\n",
    "test_encoder_input, test_decoder_input, test_decoder_output = create_dataset(\n",
    "    contexts=test_df[config.CONTENT_FIELD].values.astype('str'), \n",
    "    titles=test_df[config.TITLE_FIELD].values.astype('str'),\n",
    "    word2vec=word2vec\n",
    ")"
   ]
  },
  {
   "cell_type": "code",
   "execution_count": 6,
   "metadata": {},
   "outputs": [
    {
     "data": {
      "text/plain": [
       "100"
      ]
     },
     "execution_count": 6,
     "metadata": {},
     "output_type": "execute_result"
    }
   ],
   "source": [
    "len(test_encoder_input)"
   ]
  },
  {
   "cell_type": "code",
   "execution_count": 15,
   "metadata": {},
   "outputs": [
    {
     "name": "stdout",
     "output_type": "stream",
     "text": [
      "['据', '报道', '，', '伊朗', '表示', '愿意', '与', '世界大国', '进行', '新一轮', '的', '核', '谈判', '。', '伊朗核', '谈判代表', '写信给', '欧盟', '外交', '专员', '时', '表示', '，', '对', '5', '+', '1', '国家', '要', '回到', '对话', '的', '的', '政治', '意愿', '表示', '欢迎', '。', '他', '还', '说', '，', '双方', '应该', '保持', '接触', '，', '为', '新一轮', '的', '对话', '确定', '日期', '和', '地点', '。', '<PAD>', '<PAD>', '<PAD>', '<PAD>', '<PAD>', '<PAD>', '<PAD>', '<PAD>', '<PAD>', '<PAD>', '<PAD>', '<PAD>', '<PAD>', '<PAD>', '<PAD>', '<PAD>', '<PAD>', '<PAD>', '<PAD>', '<PAD>', '<PAD>', '<PAD>', '<PAD>', '<PAD>', '<PAD>', '<PAD>', '<PAD>', '<PAD>', '<PAD>', '<PAD>', '<PAD>', '<PAD>', '<PAD>', '<PAD>', '<PAD>', '<PAD>', '<PAD>', '<PAD>', '<PAD>', '<PAD>', '<PAD>', '<PAD>', '<PAD>', '<PAD>']\n",
      "['伊朗', '表示', '愿', '与', '世界大国', '约定', '核', '谈判', '日期', '和', '地点', '<END>', '<PAD>', '<PAD>', '<PAD>', '<PAD>', '<PAD>', '<PAD>', '<PAD>', '<PAD>', '<PAD>', '<PAD>', '<PAD>', '<PAD>', '<PAD>', '<PAD>', '<PAD>', '<PAD>', '<PAD>', '<PAD>']\n",
      "['<START>', '伊朗', '表示', '愿', '与', '世界大国', '约定', '核', '谈判', '日期', '和', '地点', '<PAD>', '<PAD>', '<PAD>', '<PAD>', '<PAD>', '<PAD>', '<PAD>', '<PAD>', '<PAD>', '<PAD>', '<PAD>', '<PAD>', '<PAD>', '<PAD>', '<PAD>', '<PAD>', '<PAD>', '<PAD>']\n"
     ]
    }
   ],
   "source": [
    "k=1\n",
    "\n",
    "print([word2vec.index_to_key[x] for x in test_encoder_input[k]][::-1][:100])\n",
    "print([word2vec.index_to_key[x] for x in test_decoder_output[k]][:40])\n",
    "print([word2vec.index_to_key[x] for x in test_decoder_input[k]][:40])"
   ]
  },
  {
   "cell_type": "code",
   "execution_count": 12,
   "metadata": {
    "collapsed": true,
    "jupyter": {
     "outputs_hidden": true
    }
   },
   "outputs": [
    {
     "data": {
      "text/plain": [
       "['中国 年终 年终 姜 姜 姜 姜 姜 姜 姜 姜 姜 姜 姜 姜 姜 姜 姜 姜 姜 姜 姜 姜 姜 姜 姜 姜 姜 姜 姜',\n",
       " '日本 畅游 姜 姜 姜 姜 姜 姜 姜 姜 姜 姜 姜 姜 姜 姜 姜 姜 姜 姜 姜 姜 姜 姜 姜 姜 姜 姜 姜 姜',\n",
       " '“ 谢娜 年终 姜 姜 姜 姜 姜 姜 姜 姜 姜 姜 姜 姜 姜 姜 姜 姜 姜 姜 姜 姜 姜 姜 姜 姜 姜 姜 姜',\n",
       " '： 初冬 姜 姜 姜 姜 姜 姜 姜 姜 姜 姜 姜 姜 姜 姜 姜 姜 姜 姜 姜 姜 姜 姜 姜 姜 姜 姜 姜 姜',\n",
       " '河南 谢娜 煮熟 姜 姜 姜 姜 姜 姜 姜 姜 姜 姜 姜 姜 姜 姜 姜 姜 姜 姜 姜 姜 姜 姜 姜 姜 姜 姜 姜',\n",
       " '北京 初冬 煮熟 姜 姜 姜 姜 姜 姜 姜 姜 姜 姜 姜 姜 姜 姜 姜 姜 姜 姜 姜 姜 姜 姜 姜 姜 姜 姜 姜',\n",
       " '“ 初冬 煮熟 姜 姜 姜 姜 姜 姜 姜 姜 姜 姜 姜 姜 姜 姜 姜 姜 姜 姜 姜 姜 姜 姜 姜 姜 姜 姜 姜',\n",
       " '男子 谢娜 姜 姜 姜 姜 姜 姜 姜 姜 姜 姜 姜 姜 姜 姜 姜 姜 姜 姜 姜 姜 姜 姜 姜 姜 姜 姜 姜 姜',\n",
       " '“ 谢娜 姜 姜 姜 姜 姜 姜 姜 姜 姜 姜 姜 姜 姜 姜 姜 姜 姜 姜 姜 姜 姜 姜 姜 姜 姜 姜 姜 姜',\n",
       " '美国 初冬 姜 姜 姜 姜 姜 姜 姜 姜 姜 姜 姜 姜 姜 姜 姜 姜 姜 姜 姜 姜 姜 姜 姜 姜 姜 姜 姜 姜',\n",
       " '日本 谢娜 年终 姜 姜 姜 姜 姜 姜 姜 姜 姜 姜 姜 姜 姜 姜 姜 姜 姜 姜 姜 姜 姜 姜 姜 姜 姜 姜 姜',\n",
       " '“ 初冬 煮熟 姜 姜 姜 姜 姜 姜 姜 姜 姜 姜 姜 姜 姜 姜 姜 姜 姜 姜 姜 姜 姜 姜 姜 姜 姜 姜 姜',\n",
       " '男子 谢娜 姜 姜 姜 姜 姜 姜 姜 姜 姜 姜 姜 姜 姜 姜 姜 姜 姜 姜 姜 姜 姜 姜 姜 姜 姜 姜 姜 姜',\n",
       " '中国 姜 姜 姜 姜 姜 姜 姜 姜 姜 姜 姜 姜 姜 姜 姜 姜 姜 姜 姜 姜 姜 姜 姜 姜 姜 姜 姜 姜 姜',\n",
       " '： 初冬 姜 姜 姜 姜 姜 姜 姜 姜 姜 姜 姜 姜 姜 姜 姜 姜 姜 姜 姜 姜 姜 姜 姜 姜 姜 姜 姜 姜',\n",
       " '男子 谢娜 姜 姜 姜 姜 姜 姜 姜 姜 姜 姜 姜 姜 姜 姜 姜 姜 姜 姜 姜 姜 姜 姜 姜 姜 姜 姜 姜 姜',\n",
       " '中国 姜 煮熟 姜 姜 姜 姜 姜 姜 姜 姜 姜 姜 姜 姜 姜 姜 姜 姜 姜 姜 姜 姜 姜 姜 姜 姜 姜 姜 姜',\n",
       " '谷歌 畅游 年终 姜 姜 姜 姜 姜 姜 姜 姜 姜 姜 姜 姜 姜 姜 姜 姜 姜 姜 姜 姜 姜 姜 姜 姜 姜 姜 姜',\n",
       " '昆明 初冬 煮熟 姜 姜 姜 姜 姜 姜 姜 姜 姜 姜 姜 姜 姜 姜 姜 姜 姜 姜 姜 姜 姜 姜 姜 姜 姜 姜 姜',\n",
       " '： 初冬 煮熟 姜 姜 姜 姜 姜 姜 姜 姜 姜 姜 姜 姜 姜 姜 姜 姜 姜 姜 姜 姜 姜 姜 姜 姜 姜 姜 姜',\n",
       " '美国 畅游 年终 姜 姜 姜 姜 姜 姜 姜 姜 姜 姜 姜 姜 姜 姜 姜 姜 姜 姜 姜 姜 姜 姜 姜 姜 姜 姜 姜',\n",
       " '中国 畅游 姜 姜 姜 姜 姜 姜 姜 姜 姜 姜 姜 姜 姜 姜 姜 姜 姜 姜 姜 姜 姜 姜 姜 姜 姜 姜 姜 姜',\n",
       " '深圳 初冬 煮熟 姜 姜 姜 姜 姜 姜 姜 姜 姜 姜 姜 姜 姜 姜 姜 姜 姜 姜 姜 姜 姜 姜 姜 姜 姜 姜 姜',\n",
       " '中国 姜 煮熟 姜 姜 姜 姜 姜 姜 姜 姜 姜 姜 姜 姜 姜 姜 姜 姜 姜 姜 姜 姜 姜 姜 姜 姜 姜 姜 姜',\n",
       " '中国 初冬 姜 姜 姜 姜 姜 姜 姜 姜 姜 姜 姜 姜 姜 姜 姜 姜 姜 姜 姜 姜 姜 姜 姜 姜 姜 姜 姜 姜',\n",
       " '国务院 畅游 年终 姜 姜 姜 姜 姜 姜 姜 姜 姜 姜 姜 姜 姜 姜 姜 姜 姜 姜 姜 姜 姜 姜 姜 姜 姜 姜 姜',\n",
       " '中国 畅游 姜 姜 姜 姜 姜 姜 姜 姜 姜 姜 姜 姜 姜 姜 姜 姜 姜 姜 姜 姜 姜 姜 姜 姜 姜 姜 姜 姜',\n",
       " '# 初冬 煮熟 姜 姜 姜 姜 姜 姜 姜 姜 姜 姜 姜 姜 姜 姜 姜 姜 姜 姜 姜 姜 姜 姜 姜 姜 姜 姜 姜',\n",
       " '视频 初冬 煮熟 姜 姜 姜 姜 姜 姜 姜 姜 姜 姜 姜 姜 姜 姜 姜 姜 姜 姜 姜 姜 姜 姜 姜 姜 姜 姜 姜',\n",
       " '“ 初冬 煮熟 姜 姜 姜 姜 姜 姜 姜 姜 姜 姜 姜 姜 姜 姜 姜 姜 姜 姜 姜 姜 姜 姜 姜 姜 姜 姜 姜',\n",
       " '央行 畅游 年终 姜 姜 姜 姜 姜 姜 姜 姜 姜 姜 姜 姜 姜 姜 姜 姜 姜 姜 姜 姜 姜 姜 姜 姜 姜 姜 姜',\n",
       " '互联网 畅游 煮熟 姜 姜 姜 姜 姜 姜 姜 姜 姜 姜 姜 姜 姜 姜 姜 姜 姜 姜 姜 姜 姜 姜 姜 姜 姜 姜 姜',\n",
       " '上海 初冬 煮熟 姜 姜 姜 姜 姜 姜 姜 姜 姜 姜 姜 姜 姜 姜 姜 姜 姜 姜 姜 姜 姜 姜 姜 姜 姜 姜 姜',\n",
       " '昆明 初冬 煮熟 姜 姜 姜 姜 姜 姜 姜 姜 姜 姜 姜 姜 姜 姜 姜 姜 姜 姜 姜 姜 姜 姜 姜 姜 姜 姜 姜',\n",
       " '“ 谢娜 年终 姜 姜 姜 姜 姜 姜 姜 姜 姜 姜 姜 姜 姜 姜 姜 姜 姜 姜 姜 姜 姜 姜 姜 姜 姜 姜 姜',\n",
       " '高盛 畅游 煮熟 姜 姜 姜 姜 姜 姜 姜 姜 姜 姜 姜 姜 姜 姜 姜 姜 姜 姜 姜 姜 姜 姜 姜 姜 姜 姜 姜',\n",
       " '央行 畅游 畅游 姜 姜 姜 姜 姜 姜 姜 姜 姜 姜 姜 姜 姜 姜 姜 姜 姜 姜 姜 姜 姜 姜 姜 姜 姜 姜 姜',\n",
       " '《 谢娜 姜 姜 姜 姜 姜 姜 姜 姜 姜 姜 姜 姜 姜 姜 姜 姜 姜 姜 姜 姜 姜 姜 姜 姜 姜 姜 姜 姜',\n",
       " '美国 谢娜 年终 姜 姜 姜 姜 姜 姜 姜 姜 姜 姜 姜 姜 姜 姜 姜 姜 姜 姜 姜 姜 姜 姜 姜 姜 姜 姜 姜',\n",
       " '阿里 畅游 年终 姜 姜 姜 姜 姜 姜 姜 姜 姜 姜 姜 姜 姜 姜 姜 姜 姜 姜 姜 姜 姜 姜 姜 姜 姜 姜 姜',\n",
       " '中国 初冬 煮熟 姜 姜 姜 姜 姜 姜 姜 姜 姜 姜 姜 姜 姜 姜 姜 姜 姜 姜 姜 姜 姜 姜 姜 姜 姜 姜 姜',\n",
       " '慈溪 初冬 年终 姜 姜 姜 姜 姜 姜 姜 姜 姜 姜 姜 姜 姜 姜 姜 姜 姜 姜 姜 姜 姜 姜 姜 姜 姜 姜 姜',\n",
       " '中国 初冬 煮熟 姜 姜 姜 姜 姜 姜 姜 姜 姜 姜 姜 姜 姜 姜 姜 姜 姜 姜 姜 姜 姜 姜 姜 姜 姜 姜 姜',\n",
       " '“ 初冬 煮熟 姜 姜 姜 姜 姜 姜 姜 姜 姜 姜 姜 姜 姜 姜 姜 姜 姜 姜 姜 姜 姜 姜 姜 姜 姜 姜 姜',\n",
       " '中国 初冬 煮熟 姜 姜 姜 姜 姜 姜 姜 姜 姜 姜 姜 姜 姜 姜 姜 姜 姜 姜 姜 姜 姜 姜 姜 姜 姜 姜 姜',\n",
       " '“ 煮熟 年终 姜 姜 姜 姜 姜 姜 姜 姜 姜 姜 姜 姜 姜 姜 姜 姜 姜 姜 姜 姜 姜 姜 姜 姜 姜 姜 姜',\n",
       " '《 谢娜 煮熟 姜 姜 姜 姜 姜 姜 姜 姜 姜 姜 姜 姜 姜 姜 姜 姜 姜 姜 姜 姜 姜 姜 姜 姜 姜 姜 姜',\n",
       " '美国 畅游 煮熟 姜 姜 姜 姜 姜 姜 姜 姜 姜 姜 姜 姜 姜 姜 姜 姜 姜 姜 姜 姜 姜 姜 姜 姜 姜 姜 姜',\n",
       " '北京 初冬 姜 姜 姜 姜 姜 姜 姜 姜 姜 姜 姜 姜 姜 姜 姜 姜 姜 姜 姜 姜 姜 姜 姜 姜 姜 姜 姜 姜',\n",
       " '中国 初冬 姜 姜 姜 姜 姜 姜 姜 姜 姜 姜 姜 姜 姜 姜 姜 姜 姜 姜 姜 姜 姜 姜 姜 姜 姜 姜 姜 姜',\n",
       " '： 畅游 年终 姜 姜 姜 姜 姜 姜 姜 姜 姜 姜 姜 姜 姜 姜 姜 姜 姜 姜 姜 姜 姜 姜 姜 姜 姜 姜 姜',\n",
       " '北京 初冬 煮熟 姜 姜 姜 姜 姜 姜 姜 姜 姜 姜 姜 姜 姜 姜 姜 姜 姜 姜 姜 姜 姜 姜 姜 姜 姜 姜 姜',\n",
       " '中国 谢娜 姜 姜 姜 姜 姜 姜 姜 姜 姜 姜 姜 姜 姜 姜 姜 姜 姜 姜 姜 姜 姜 姜 姜 姜 姜 姜 姜 姜',\n",
       " '中国 煮熟 煮熟 姜 姜 姜 姜 姜 姜 姜 姜 姜 姜 姜 姜 姜 姜 姜 姜 姜 姜 姜 姜 姜 姜 姜 姜 姜 姜 姜',\n",
       " '“ 初冬 煮熟 姜 姜 姜 姜 姜 姜 姜 姜 姜 姜 姜 姜 姜 姜 姜 姜 姜 姜 姜 姜 姜 姜 姜 姜 姜 姜 姜',\n",
       " '“ 谢娜 姜 姜 姜 姜 姜 姜 姜 姜 姜 姜 姜 姜 姜 姜 姜 姜 姜 姜 姜 姜 姜 姜 姜 姜 姜 姜 姜 姜',\n",
       " '“ 初冬 姜 姜 姜 姜 姜 姜 姜 姜 姜 姜 姜 姜 姜 姜 姜 姜 姜 姜 姜 姜 姜 姜 姜 姜 姜 姜 姜 姜',\n",
       " '： 畅游 煮熟 姜 姜 姜 姜 姜 姜 姜 姜 姜 姜 姜 姜 姜 姜 姜 姜 姜 姜 姜 姜 姜 姜 姜 姜 姜 姜 姜',\n",
       " '# 畅游 年终 姜 姜 姜 姜 姜 姜 姜 姜 姜 姜 姜 姜 姜 姜 姜 姜 姜 姜 姜 姜 姜 姜 姜 姜 姜 姜 姜',\n",
       " '习近平 谢娜 姜 姜 姜 姜 姜 姜 姜 姜 姜 姜 姜 姜 姜 姜 姜 姜 姜 姜 姜 姜 姜 姜 姜 姜 姜 姜 姜 姜',\n",
       " '传 畅游 畅游 姜 姜 姜 姜 姜 姜 姜 姜 姜 姜 姜 姜 姜 姜 姜 姜 姜 姜 姜 姜 姜 姜 姜 姜 姜 姜 姜',\n",
       " '电商 初冬 姜 姜 姜 姜 姜 姜 姜 姜 姜 姜 姜 姜 姜 姜 姜 姜 姜 姜 姜 姜 姜 姜 姜 姜 姜 姜 姜 姜',\n",
       " '男子 谢娜 煮熟 姜 姜 姜 姜 姜 姜 姜 姜 姜 姜 姜 姜 姜 姜 姜 姜 姜 姜 姜 姜 姜 姜 姜 姜 姜 姜 姜',\n",
       " '美 初冬 年终 姜 姜 姜 姜 姜 姜 姜 姜 姜 姜 姜 姜 姜 姜 姜 姜 姜 姜 姜 姜 姜 姜 姜 姜 姜 姜 姜',\n",
       " '中国 畅游 畅游 姜 姜 姜 姜 姜 姜 姜 姜 姜 姜 姜 姜 姜 姜 姜 姜 姜 姜 姜 姜 姜 姜 姜 姜 姜 姜 姜',\n",
       " '： 初冬 姜 姜 姜 姜 姜 姜 姜 姜 姜 姜 姜 姜 姜 姜 姜 姜 姜 姜 姜 姜 姜 姜 姜 姜 姜 姜 姜 姜',\n",
       " '河南 谢娜 煮熟 姜 姜 姜 姜 姜 姜 姜 姜 姜 姜 姜 姜 姜 姜 姜 姜 姜 姜 姜 姜 姜 姜 姜 姜 姜 姜 姜',\n",
       " '中国 畅游 姜 姜 姜 姜 姜 姜 姜 姜 姜 姜 姜 姜 姜 姜 姜 姜 姜 姜 姜 姜 姜 姜 姜 姜 姜 姜 姜 姜',\n",
       " '“ 初冬 煮熟 姜 姜 姜 姜 姜 姜 姜 姜 姜 姜 姜 姜 姜 姜 姜 姜 姜 姜 姜 姜 姜 姜 姜 姜 姜 姜 姜',\n",
       " '“ 初冬 姜 姜 姜 姜 姜 姜 姜 姜 姜 姜 姜 姜 姜 姜 姜 姜 姜 姜 姜 姜 姜 姜 姜 姜 姜 姜 姜 姜',\n",
       " '中国 畅游 煮熟 姜 姜 姜 姜 姜 姜 姜 姜 姜 姜 姜 姜 姜 姜 姜 姜 姜 姜 姜 姜 姜 姜 姜 姜 姜 姜 姜',\n",
       " '： 初冬 姜 姜 姜 姜 姜 姜 姜 姜 姜 姜 姜 姜 姜 姜 姜 姜 姜 姜 姜 姜 姜 姜 姜 姜 姜 姜 姜 姜',\n",
       " '《 谢娜 年终 姜 姜 姜 姜 姜 姜 姜 姜 姜 姜 姜 姜 姜 姜 姜 姜 姜 姜 姜 姜 姜 姜 姜 姜 姜 姜 姜',\n",
       " '中国 莫言 年终 姜 姜 姜 姜 姜 姜 姜 姜 姜 姜 姜 姜 姜 姜 姜 姜 姜 姜 姜 姜 姜 姜 姜 姜 姜 姜 姜',\n",
       " '中国 畅游 煮熟 姜 姜 姜 姜 姜 姜 姜 姜 姜 姜 姜 姜 姜 姜 姜 姜 姜 姜 姜 姜 姜 姜 姜 姜 姜 姜 姜',\n",
       " '“ 谢娜 煮熟 姜 姜 姜 姜 姜 姜 姜 姜 姜 姜 姜 姜 姜 姜 姜 姜 姜 姜 姜 姜 姜 姜 姜 姜 姜 姜 姜',\n",
       " '男子 初冬 姜 姜 姜 姜 姜 姜 姜 姜 姜 姜 姜 姜 姜 姜 姜 姜 姜 姜 姜 姜 姜 姜 姜 姜 姜 姜 姜 姜',\n",
       " '“ 畅游 年终 姜 姜 姜 姜 姜 姜 姜 姜 姜 姜 姜 姜 姜 姜 姜 姜 姜 姜 姜 姜 姜 姜 姜 姜 姜 姜 姜',\n",
       " '楼市 初冬 煮熟 姜 姜 姜 姜 姜 姜 姜 姜 姜 姜 姜 姜 姜 姜 姜 姜 姜 姜 姜 姜 姜 姜 姜 姜 姜 姜 姜',\n",
       " '新疆 初冬 煮熟 姜 姜 姜 姜 姜 姜 姜 姜 姜 姜 姜 姜 姜 姜 姜 姜 姜 姜 姜 姜 姜 姜 姜 姜 姜 姜 姜',\n",
       " '发改委 畅游 姜 姜 姜 姜 姜 姜 姜 姜 姜 姜 姜 姜 姜 姜 姜 姜 姜 姜 姜 姜 姜 姜 姜 姜 姜 姜 姜 姜',\n",
       " '中国 畅游 煮熟 姜 姜 姜 姜 姜 姜 姜 姜 姜 姜 姜 姜 姜 姜 姜 姜 姜 姜 姜 姜 姜 姜 姜 姜 姜 姜 姜',\n",
       " '百度 畅游 姜 姜 姜 姜 姜 姜 姜 姜 姜 姜 姜 姜 姜 姜 姜 姜 姜 姜 姜 姜 姜 姜 姜 姜 姜 姜 姜 姜',\n",
       " '： 畅游 煮熟 姜 姜 姜 姜 姜 姜 姜 姜 姜 姜 姜 姜 姜 姜 姜 姜 姜 姜 姜 姜 姜 姜 姜 姜 姜 姜 姜',\n",
       " '武汉 初冬 煮熟 姜 姜 姜 姜 姜 姜 姜 姜 姜 姜 姜 姜 姜 姜 姜 姜 姜 姜 姜 姜 姜 姜 姜 姜 姜 姜 姜',\n",
       " '昆明 初冬 煮熟 姜 姜 姜 姜 姜 姜 姜 姜 姜 姜 姜 姜 姜 姜 姜 姜 姜 姜 姜 姜 姜 姜 姜 姜 姜 姜 姜',\n",
       " '男子 谢娜 煮熟 姜 姜 姜 姜 姜 姜 姜 姜 姜 姜 姜 姜 姜 姜 姜 姜 姜 姜 姜 姜 姜 姜 姜 姜 姜 姜 姜',\n",
       " '证监会 畅游 畅游 姜 姜 姜 姜 姜 姜 姜 姜 姜 姜 姜 姜 姜 姜 姜 姜 姜 姜 姜 姜 姜 姜 姜 姜 姜 姜 姜',\n",
       " '铁路 畅游 煮熟 姜 姜 姜 姜 姜 姜 姜 姜 姜 姜 姜 姜 姜 姜 姜 姜 姜 姜 姜 姜 姜 姜 姜 姜 姜 姜 姜',\n",
       " '2014 初冬 煮熟 姜 姜 姜 姜 姜 姜 姜 姜 姜 姜 姜 姜 姜 姜 姜 姜 姜 姜 姜 姜 姜 姜 姜 姜 姜 姜 姜',\n",
       " '中国 畅游 煮熟 姜 姜 姜 姜 姜 姜 姜 姜 姜 姜 姜 姜 姜 姜 姜 姜 姜 姜 姜 姜 姜 姜 姜 姜 姜 姜 姜',\n",
       " '河南 谢娜 煮熟 姜 姜 姜 姜 姜 姜 姜 姜 姜 姜 姜 姜 姜 姜 姜 姜 姜 姜 姜 姜 姜 姜 姜 姜 姜 姜 姜',\n",
       " '“ 煮熟 年终 姜 姜 姜 姜 姜 姜 姜 姜 姜 姜 姜 姜 姜 姜 姜 姜 姜 姜 姜 姜 姜 姜 姜 姜 姜 姜 姜',\n",
       " '： 初冬 煮熟 姜 姜 姜 姜 姜 姜 姜 姜 姜 姜 姜 姜 姜 姜 姜 姜 姜 姜 姜 姜 姜 姜 姜 姜 姜 姜 姜',\n",
       " '英国 畅游 畅游 姜 姜 姜 姜 姜 姜 姜 姜 姜 姜 姜 姜 姜 姜 姜 姜 姜 姜 姜 姜 姜 姜 姜 姜 姜 姜 姜',\n",
       " '武汉 初冬 煮熟 姜 姜 姜 姜 姜 姜 姜 姜 姜 姜 姜 姜 姜 姜 姜 姜 姜 姜 姜 姜 姜 姜 姜 姜 姜 姜 姜',\n",
       " '《 谢娜 煮熟 姜 姜 姜 姜 姜 姜 姜 姜 姜 姜 姜 姜 姜 姜 姜 姜 姜 姜 姜 姜 姜 姜 姜 姜 姜 姜 姜',\n",
       " '“ 初冬 煮熟 姜 姜 姜 姜 姜 姜 姜 姜 姜 姜 姜 姜 姜 姜 姜 姜 姜 姜 姜 姜 姜 姜 姜 姜 姜 姜 姜',\n",
       " '《 畅游 姜 姜 姜 姜 姜 姜 姜 姜 姜 姜 姜 姜 姜 姜 姜 姜 姜 姜 姜 姜 姜 姜 姜 姜 姜 姜 姜 姜',\n",
       " '“ 畅游 煮熟 姜 姜 姜 姜 姜 姜 姜 姜 姜 姜 姜 姜 姜 姜 姜 姜 姜 姜 姜 姜 姜 姜 姜 姜 姜 姜 姜']"
      ]
     },
     "execution_count": 12,
     "metadata": {},
     "output_type": "execute_result"
    }
   ],
   "source": [
    "states_value = encoder.predict(test_encoder_input)     # [state h, state_c]\n",
    "target_seq = np.zeros((config.TEST_SIZE, config.MAX_LEN_DECODER))\n",
    "target_seq[:,0] = word2vec.key_to_index['<START>']\n",
    "\n",
    "# stop_condition = False\n",
    "decoded_sentence = \"\"\n",
    "decoded_sentences = [decoded_sentence]*config.TEST_SIZE\n",
    "\n",
    "\n",
    "for i in range(config.MAX_LEN_DECODER):\n",
    "    # while not stop_condition:\n",
    "    output_tokens, h, c = decoder.predict([target_seq] + states_value)\n",
    "\n",
    "    # Sample a token\n",
    "    sampled_token_index = np.argmax(output_tokens, axis=-1)[:,0]\n",
    "#     print(sampled_token_index)\n",
    "\n",
    "    sampled_char = [word2vec.index_to_key[x] for x in sampled_token_index]\n",
    "#     print(sampled_char)\n",
    "\n",
    "    decoded_sentences_new=[]\n",
    "    for i, decoded_sent in enumerate(decoded_sentences):\n",
    "        decoded_sent += sampled_char[i]\n",
    "        decoded_sentences_new.append(decoded_sent+' ')\n",
    "    decoded_sentences = decoded_sentences_new\n",
    "\n",
    "    # Update the target sequence (of length 1).\n",
    "    target_seq = np.zeros((config.TEST_SIZE,config.MAX_LEN_DECODER))\n",
    "    target_seq[:,0] = word2vec.key_to_index['<START>']\n",
    "\n",
    "    # Update states\n",
    "    states_value = [h, c]\n",
    "    \n",
    "    \n",
    "decoded_sentences_cleaned = []\n",
    "for i, sample in enumerate(decoded_sentences):\n",
    "    position = sample.find('<EOS>')\n",
    "    decoded_sentences_cleaned.append(sample[:position])\n",
    "    "
   ]
  },
  {
   "cell_type": "code",
   "execution_count": 39,
   "metadata": {
    "collapsed": true,
    "jupyter": {
     "outputs_hidden": true
    }
   },
   "outputs": [
    {
     "data": {
      "text/plain": [
       "['中国',\n",
       " '年终',\n",
       " '年终',\n",
       " '姜',\n",
       " '姜',\n",
       " '姜',\n",
       " '姜',\n",
       " '姜',\n",
       " '姜',\n",
       " '姜',\n",
       " '姜',\n",
       " '姜',\n",
       " '姜',\n",
       " '姜',\n",
       " '姜',\n",
       " '姜',\n",
       " '姜',\n",
       " '姜',\n",
       " '姜',\n",
       " '姜',\n",
       " '姜',\n",
       " '姜',\n",
       " '姜',\n",
       " '姜',\n",
       " '姜',\n",
       " '姜',\n",
       " '姜',\n",
       " '姜',\n",
       " '姜',\n",
       " '姜']"
      ]
     },
     "execution_count": 39,
     "metadata": {},
     "output_type": "execute_result"
    }
   ],
   "source": [
    "y_pred = [x.split(' ') for x in decoded_sentences_cleaned]"
   ]
  },
  {
   "cell_type": "code",
   "execution_count": 37,
   "metadata": {},
   "outputs": [],
   "source": [
    "y_true = []\n",
    "\n",
    "for i, sample in enumerate(test_decoder_output):\n",
    "    sent = [word2vec.index_to_key[x] for x in sample if word2vec.index_to_key[x] not in ['<PAD>','<END>']]\n",
    "    y_true.append(sent)\n"
   ]
  },
  {
   "cell_type": "code",
   "execution_count": 47,
   "metadata": {},
   "outputs": [
    {
     "name": "stderr",
     "output_type": "stream",
     "text": [
      "/home/fengyuan/anaconda3/envs/transformers/lib/python3.6/site-packages/nltk/translate/bleu_score.py:516: UserWarning: \n",
      "The hypothesis contains 0 counts of 2-gram overlaps.\n",
      "Therefore the BLEU score evaluates to 0, independently of\n",
      "how many N-gram overlaps of lower order it contains.\n",
      "Consider using lower n-gram order or use SmoothingFunction()\n",
      "  warnings.warn(_msg)\n",
      "/home/fengyuan/anaconda3/envs/transformers/lib/python3.6/site-packages/nltk/translate/bleu_score.py:516: UserWarning: \n",
      "The hypothesis contains 0 counts of 3-gram overlaps.\n",
      "Therefore the BLEU score evaluates to 0, independently of\n",
      "how many N-gram overlaps of lower order it contains.\n",
      "Consider using lower n-gram order or use SmoothingFunction()\n",
      "  warnings.warn(_msg)\n",
      "/home/fengyuan/anaconda3/envs/transformers/lib/python3.6/site-packages/nltk/translate/bleu_score.py:516: UserWarning: \n",
      "The hypothesis contains 0 counts of 4-gram overlaps.\n",
      "Therefore the BLEU score evaluates to 0, independently of\n",
      "how many N-gram overlaps of lower order it contains.\n",
      "Consider using lower n-gram order or use SmoothingFunction()\n",
      "  warnings.warn(_msg)\n"
     ]
    },
    {
     "data": {
      "text/plain": [
       "3.2397263153811994e-232"
      ]
     },
     "execution_count": 47,
     "metadata": {},
     "output_type": "execute_result"
    }
   ],
   "source": [
    "from nltk.translate.bleu_score import corpus_bleu\n",
    "bleu = corpus_bleu([[x] for x in y_true], y_pred)\n",
    "bleu"
   ]
  },
  {
   "cell_type": "code",
   "execution_count": 52,
   "metadata": {},
   "outputs": [],
   "source": [
    "from rouge import Rouge \n",
    "rouge = Rouge()\n",
    "scores = rouge.get_scores([' '.join(x) for x in y_pred], [' '.join(x) for x in y_true], avg=True)"
   ]
  },
  {
   "cell_type": "code",
   "execution_count": 54,
   "metadata": {},
   "outputs": [
    {
     "name": "stdout",
     "output_type": "stream",
     "text": [
      "{'rouge-1': {'r': 0.018857004107004104, 'p': 0.05416666666666666, 'f': 0.02733727110433932}, 'rouge-2': {'r': 0.0, 'p': 0.0, 'f': 0.0}, 'rouge-l': {'r': 0.018857004107004104, 'p': 0.05416666666666666, 'f': 0.02733727110433932}}\n"
     ]
    }
   ],
   "source": [
    "print(scores)"
   ]
  },
  {
   "cell_type": "code",
   "execution_count": null,
   "metadata": {},
   "outputs": [],
   "source": []
  }
 ],
 "metadata": {
  "interpreter": {
   "hash": "06a52ca9f7de1d000598c3b5b8dbd30de0070d18de6fab21ac0ed6d78647dc91"
  },
  "kernelspec": {
   "display_name": "transformers",
   "language": "python",
   "name": "transformers"
  },
  "language_info": {
   "codemirror_mode": {
    "name": "ipython",
    "version": 3
   },
   "file_extension": ".py",
   "mimetype": "text/x-python",
   "name": "python",
   "nbconvert_exporter": "python",
   "pygments_lexer": "ipython3",
   "version": "3.6.13"
  }
 },
 "nbformat": 4,
 "nbformat_minor": 4
}
