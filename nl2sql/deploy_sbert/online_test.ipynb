{
 "cells": [
  {
   "cell_type": "code",
   "execution_count": 1,
   "metadata": {},
   "outputs": [
    {
     "data": {
      "text/plain": [
       "{'q': 'A man is eating food.',\n",
       " 'sep': '!~^',\n",
       " 'list_str': 'A man is eating a piece of bread.!~^The girl is carrying a baby.'}"
      ]
     },
     "execution_count": 1,
     "metadata": {},
     "output_type": "execute_result"
    }
   ],
   "source": [
    "import requests\n",
    "\n",
    "q = 'A man is eating food.'\n",
    "sep = '!~^'\n",
    "list_str = 'A man is eating a piece of bread.!~^The girl is carrying a baby.' \n",
    "\n",
    "json_ = dict()\n",
    "json_['q']=q\n",
    "json_['sep']=sep\n",
    "json_['list_str']=list_str\n",
    "\n",
    "json_\n",
    "\n"
   ]
  },
  {
   "cell_type": "code",
   "execution_count": 2,
   "metadata": {},
   "outputs": [
    {
     "name": "stdout",
     "output_type": "stream",
     "text": [
      "{\n",
      "  \"A man is eating food.\": {\n",
      "    \"A man is eating a piece of bread.\": 0.6793\n",
      "  }\n",
      "}\n"
     ]
    }
   ],
   "source": [
    "output = requests.post('http://127.0.0.1:8080/predictions/sbert',json=json_).text\n",
    "print(output)"
   ]
  },
  {
   "cell_type": "code",
   "execution_count": null,
   "metadata": {},
   "outputs": [],
   "source": []
  }
 ],
 "metadata": {
  "interpreter": {
   "hash": "8063a049ce6126424592ab63ae068ec0717401a263e6cd39dbb78c77b7761238"
  },
  "kernelspec": {
   "display_name": "Python 3.6.13 64-bit ('transformers': conda)",
   "name": "python3"
  },
  "language_info": {
   "codemirror_mode": {
    "name": "ipython",
    "version": 3
   },
   "file_extension": ".py",
   "mimetype": "text/x-python",
   "name": "python",
   "nbconvert_exporter": "python",
   "pygments_lexer": "ipython3",
   "version": "3.6.13"
  },
  "orig_nbformat": 4
 },
 "nbformat": 4,
 "nbformat_minor": 2
}
