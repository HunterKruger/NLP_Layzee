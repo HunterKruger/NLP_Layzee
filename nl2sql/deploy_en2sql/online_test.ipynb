{
 "cells": [
  {
   "cell_type": "code",
   "execution_count": 9,
   "metadata": {},
   "outputs": [],
   "source": [
    "import requests"
   ]
  },
  {
   "cell_type": "code",
   "execution_count": 15,
   "metadata": {},
   "outputs": [
    {
     "name": "stdout",
     "output_type": "stream",
     "text": [
      "{'query': 'How many people are there in Shanghai?', 'tableName': 'T_CITY'}\n"
     ]
    }
   ],
   "source": [
    "json_ = dict()\n",
    "json_['query'] = 'How many people are there in Shanghai?'\n",
    "json_['tableName'] = 'T_CITY'\n",
    "print(json_)"
   ]
  },
  {
   "cell_type": "code",
   "execution_count": 16,
   "metadata": {},
   "outputs": [
    {
     "name": "stdout",
     "output_type": "stream",
     "text": [
      "{\n",
      "  \"returnSQL\": \"SELECT COUNT Population FROM T_CITY WHERE City = Shanghai\"\n",
      "}\n"
     ]
    }
   ],
   "source": [
    "output = requests.post('http://127.0.0.1:8080/predictions/en2sql',json=json_).text\n",
    "print(output)"
   ]
  },
  {
   "cell_type": "code",
   "execution_count": 5,
   "metadata": {},
   "outputs": [
    {
     "name": "stdout",
     "output_type": "stream",
     "text": [
      "{\n",
      "  \"How many people are there in Shanghai?\": \"SELECT COUNT Population FROM table WHERE City = Shanghai\"\n",
      "}\n"
     ]
    }
   ],
   "source": [
    "query = 'How many people are there in Shanghai?'.encode('utf-8')\n",
    "output = requests.post('http://127.0.0.1:8080/predictions/en2sql',data=query).text\n",
    "print(output)"
   ]
  },
  {
   "cell_type": "code",
   "execution_count": 6,
   "metadata": {},
   "outputs": [
    {
     "name": "stdout",
     "output_type": "stream",
     "text": [
      "{\n",
      "  \"How many districts do you have in Beijing?\": \"SELECT COUNT District FROM table WHERE City = Beijing\"\n",
      "}\n"
     ]
    }
   ],
   "source": [
    "query = 'How many districts do you have in Beijing?'.encode('utf-8')\n",
    "output = requests.post('http://127.0.0.1:8080/predictions/en2sql',data=query).text\n",
    "print(output)"
   ]
  },
  {
   "cell_type": "code",
   "execution_count": 3,
   "metadata": {},
   "outputs": [
    {
     "data": {
      "text/plain": [
       "'fzsdf'"
      ]
     },
     "execution_count": 3,
     "metadata": {},
     "output_type": "execute_result"
    }
   ],
   "source": [
    "s = 'fasdf'\n",
    "s= s.replace('a','z')\n",
    "s"
   ]
  },
  {
   "cell_type": "code",
   "execution_count": null,
   "metadata": {},
   "outputs": [],
   "source": []
  }
 ],
 "metadata": {
  "interpreter": {
   "hash": "8063a049ce6126424592ab63ae068ec0717401a263e6cd39dbb78c77b7761238"
  },
  "kernelspec": {
   "display_name": "Python 3.6.13 64-bit ('transformers': conda)",
   "name": "python3"
  },
  "language_info": {
   "codemirror_mode": {
    "name": "ipython",
    "version": 3
   },
   "file_extension": ".py",
   "mimetype": "text/x-python",
   "name": "python",
   "nbconvert_exporter": "python",
   "pygments_lexer": "ipython3",
   "version": "3.6.13"
  },
  "orig_nbformat": 4
 },
 "nbformat": 4,
 "nbformat_minor": 2
}
