{
 "cells": [
  {
   "cell_type": "code",
   "execution_count": 2,
   "metadata": {},
   "outputs": [],
   "source": [
    "import torch\n",
    "from transformers import BertConfig, BertModel"
   ]
  },
  {
   "cell_type": "code",
   "execution_count": 1,
   "metadata": {},
   "outputs": [],
   "source": [
    "\n"
   ]
  },
  {
   "cell_type": "code",
   "execution_count": 5,
   "metadata": {},
   "outputs": [],
   "source": [
    "BASE_MODEL_PATH = '../../../experiments/model/chinese_wwm_ext_pytorch'\n",
    "\n",
    "S_num_labels = [1,2]\n",
    "W_num_op_labels = ['null-1','OR-1','AND-1','OR-2','AND-2','OR-3','AND-3']\n",
    "\n",
    "\n",
    "class MSQL(torch.nn.Module):\n",
    "\n",
    "    def __init__(self) :\n",
    "        super(MSQL,self).__init__()\n",
    "        self.bert_config = BertConfig.from_pretrained(BASE_MODEL_PATH, output_hidden_states=False,return_dict=True)\n",
    "        self.bert_as_encoder = BertModel.from_pretrained(BASE_MODEL_PATH, config=self.bert_config)\n",
    "        self.dense_S_num = torch.nn.Linear(self.bert_config.hidden_size, len(S_num_labels))\n",
    "        self.dense_W_num_op = torch.nn.Linear(self.bert_config.hidden_size, len(W_num_op_labels))\n",
    "\n",
    "\n",
    "    def forward(self, input_ids, token_type_ids):\n",
    "        last_hidden_state = self.bert_as_encoder(input_ids, token_type_ids).last_hidden_state\n",
    "\n",
    "        # Subtask1: S_num\n",
    "        S_num_output = self.dense_S_num(last_hidden_state[0])          # in: [XLS]'s hidden state   # out: logits in shape (batch_size, 2)\n",
    "\n",
    "        # Subtask2: W_num_op\n",
    "        W_num_op_output = self.dense_W_num_op(last_hidden_state[0])    # in: [XLS]'s hidden state   # out: logits in shape (batch_size, 7)\n",
    "\n",
    "        \n",
    "\n"
   ]
  },
  {
   "cell_type": "code",
   "execution_count": null,
   "metadata": {},
   "outputs": [],
   "source": []
  },
  {
   "cell_type": "code",
   "execution_count": null,
   "metadata": {},
   "outputs": [],
   "source": []
  }
 ],
 "metadata": {
  "interpreter": {
   "hash": "8063a049ce6126424592ab63ae068ec0717401a263e6cd39dbb78c77b7761238"
  },
  "kernelspec": {
   "display_name": "Python 3.6.13 64-bit ('transformers': conda)",
   "language": "python",
   "name": "python3"
  },
  "language_info": {
   "codemirror_mode": {
    "name": "ipython",
    "version": 3
   },
   "file_extension": ".py",
   "mimetype": "text/x-python",
   "name": "python",
   "nbconvert_exporter": "python",
   "pygments_lexer": "ipython3",
   "version": "3.6.13"
  },
  "orig_nbformat": 4
 },
 "nbformat": 4,
 "nbformat_minor": 2
}
