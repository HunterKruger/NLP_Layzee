{
 "cells": [
  {
   "cell_type": "code",
   "execution_count": 1,
   "metadata": {},
   "outputs": [
    {
     "name": "stdout",
     "output_type": "stream",
     "text": [
      "Loading dataset...\n",
      "Training set shape: (69685, 3)\n",
      "Validaiton set shape: (17421, 3)\n",
      "Test set shape: (15371, 3)\n",
      "Saving training set & validation set & test set to local...\n",
      "Loading finished.\n",
      "Saving finished.\n"
     ]
    }
   ],
   "source": [
    "import config\n",
    "from dataset import CustomDataset, CustomDatasetSiamese, train_test_split, undersampling\n",
    "from model import create_model, create_siamese_model\n",
    "\n",
    "import os\n",
    "import math\n",
    "import tensorflow as tf\n",
    "import numpy as np\n",
    "import pandas as pd\n",
    "\n",
    "os.environ['CUDA_VISIBLE_DEVICES'] = config.CUDA_VISIBLE_DEVICES    # specify GPU usage    \n",
    "\n",
    "\n",
    "\n",
    "## Loading data\n",
    "print('Loading dataset...')\n",
    "if config.ALREADY_SPLIT:\n",
    "    train_df = pd.read_csv(config.TRAIN_FILE) \n",
    "    val_df = pd.read_csv(config.VALIDATION_FILE)    \n",
    "    print('Training set shape: '+ str(train_df.shape))\n",
    "    print('Validaiton set shape: '+ str(val_df.shape))\n",
    "    print('Loading finished.')\n",
    "else:\n",
    "    data_df = pd.read_csv(config.INPUT_FILE)   \n",
    "    train_df, test_df = train_test_split(data_df, test_size=config.TEST_SIZE, shuffle=True, random_state=config.RANDOM_STATE)\n",
    "    train_df, val_df = train_test_split(train_df, test_size=config.VALIDATION_SIZE, shuffle=True, random_state=config.RANDOM_STATE)  \n",
    "    print('Training set shape: '+ str(train_df.shape))\n",
    "    print('Validaiton set shape: '+ str(val_df.shape))\n",
    "    print('Test set shape: '+ str(test_df.shape))\n",
    "    print('Saving training set & validation set & test set to local...')\n",
    "    print('Loading finished.')\n",
    "    train_df.to_csv(config.TRAIN_FILE, index=False)\n",
    "    val_df.to_csv(config.VALIDATION_FILE, index=False)\n",
    "    test_df.to_csv(config.TEST_FILE, index=False)\n",
    "    print('Saving finished.')\n",
    "if config.UNDER_SAMPLING:\n",
    "    train_df = undersampling(train_df)\n",
    "    val_df = undersampling(val_df)"
   ]
  },
  {
   "cell_type": "code",
   "execution_count": 4,
   "metadata": {},
   "outputs": [
    {
     "name": "stdout",
     "output_type": "stream",
     "text": [
      "Processing dataset...\n",
      "Processing finished.\n"
     ]
    }
   ],
   "source": [
    "## Processing data\n",
    "print('Processing dataset...')\n",
    "if not config.USE_SIAMESE:\n",
    "    train_set = CustomDataset(\n",
    "        sentence_pairs=train_df[[config.SENTENCE_FIELD, config.SENTENCE_FIELD2]].values.astype(\"str\"),\n",
    "        labels=train_df[config.LABEL_FIELD].values.astype(\"float32\"),\n",
    "        batch_size=config.BATCH_SIZE\n",
    "    )\n",
    "    val_set = CustomDataset(\n",
    "        sentence_pairs=val_df[[config.SENTENCE_FIELD, config.SENTENCE_FIELD2]].values.astype(\"str\"),\n",
    "        labels=val_df[config.LABEL_FIELD].values.astype(\"float32\"),\n",
    "        batch_size=config.BATCH_SIZE\n",
    "    )\n",
    "else:\n",
    "    train_set = CustomDatasetSiamese(\n",
    "        sent=train_df[config.SENTENCE_FIELD].values.astype(\"str\"),\n",
    "        sent2=train_df[config.SENTENCE_FIELD2].values.astype(\"str\"),\n",
    "        labels=train_df[config.LABEL_FIELD].values.astype(\"float32\"),\n",
    "        batch_size=config.BATCH_SIZE\n",
    "    )\n",
    "    val_set = CustomDatasetSiamese(\n",
    "        sent=val_df[config.SENTENCE_FIELD].values.astype(\"str\"),\n",
    "        sent2=val_df[config.SENTENCE_FIELD2].values.astype(\"str\"),        \n",
    "        labels=val_df[config.LABEL_FIELD].values.astype(\"float32\"),\n",
    "        batch_size=config.BATCH_SIZE\n",
    "    )\n",
    "print('Processing finished.')"
   ]
  },
  {
   "cell_type": "code",
   "execution_count": 8,
   "metadata": {},
   "outputs": [
    {
     "data": {
      "text/plain": [
       "<tf.Tensor: shape=(64,), dtype=int32, numpy=\n",
       "array([ 101, 6874, 3309, 6820, 3621, 1400,  711,  784,  720, 5709, 1446,\n",
       "       1108, 5310,  102, 2769, 4638, 6010, 6009, 5709, 1446, 2347, 6820,\n",
       "       3621,  711,  784,  720, 6820, 6206, 1108, 5310,  102,    0,    0,\n",
       "          0,    0,    0,    0,    0,    0,    0,    0,    0,    0,    0,\n",
       "          0,    0,    0,    0,    0,    0,    0,    0,    0,    0,    0,\n",
       "          0,    0,    0,    0,    0,    0,    0,    0,    0], dtype=int32)>"
      ]
     },
     "execution_count": 8,
     "metadata": {},
     "output_type": "execute_result"
    }
   ],
   "source": [
    "val_set[0][0][0][0]   # token id"
   ]
  },
  {
   "cell_type": "code",
   "execution_count": 9,
   "metadata": {},
   "outputs": [
    {
     "data": {
      "text/plain": [
       "<tf.Tensor: shape=(64,), dtype=int32, numpy=\n",
       "array([1, 1, 1, 1, 1, 1, 1, 1, 1, 1, 1, 1, 1, 1, 1, 1, 1, 1, 1, 1, 1, 1,\n",
       "       1, 1, 1, 1, 1, 1, 1, 1, 1, 0, 0, 0, 0, 0, 0, 0, 0, 0, 0, 0, 0, 0,\n",
       "       0, 0, 0, 0, 0, 0, 0, 0, 0, 0, 0, 0, 0, 0, 0, 0, 0, 0, 0, 0],\n",
       "      dtype=int32)>"
      ]
     },
     "execution_count": 9,
     "metadata": {},
     "output_type": "execute_result"
    }
   ],
   "source": [
    "val_set[0][0][1][0]  # attention mask id"
   ]
  },
  {
   "cell_type": "code",
   "execution_count": 10,
   "metadata": {},
   "outputs": [
    {
     "data": {
      "text/plain": [
       "<tf.Tensor: shape=(64,), dtype=int32, numpy=\n",
       "array([0, 0, 0, 0, 0, 0, 0, 0, 0, 0, 0, 0, 0, 0, 1, 1, 1, 1, 1, 1, 1, 1,\n",
       "       1, 1, 1, 1, 1, 1, 1, 1, 1, 0, 0, 0, 0, 0, 0, 0, 0, 0, 0, 0, 0, 0,\n",
       "       0, 0, 0, 0, 0, 0, 0, 0, 0, 0, 0, 0, 0, 0, 0, 0, 0, 0, 0, 0],\n",
       "      dtype=int32)>"
      ]
     },
     "execution_count": 10,
     "metadata": {},
     "output_type": "execute_result"
    }
   ],
   "source": [
    "val_set[0][0][2][0]  # token type id (sengment id)"
   ]
  },
  {
   "cell_type": "code",
   "execution_count": 1,
   "metadata": {},
   "outputs": [],
   "source": [
    "import tensorflow as tf\n",
    "from tensorflow.keras import backend as K"
   ]
  },
  {
   "cell_type": "code",
   "execution_count": 8,
   "metadata": {},
   "outputs": [
    {
     "name": "stdout",
     "output_type": "stream",
     "text": [
      "tf.Tensor(\n",
      "[[9. 9. 9.]\n",
      " [0. 0. 0.]], shape=(2, 3), dtype=float32)\n"
     ]
    }
   ],
   "source": [
    "x, y = tf.constant([[1,2,3],[1,2,3]],dtype=tf.float32),tf.constant([[4,5,6],[1,2,3]],dtype=tf.float32)\n",
    "square = tf.math.square(x - y)\n",
    "print(square)\n"
   ]
  },
  {
   "cell_type": "code",
   "execution_count": 9,
   "metadata": {},
   "outputs": [
    {
     "name": "stdout",
     "output_type": "stream",
     "text": [
      "tf.Tensor(\n",
      "[[27.]\n",
      " [ 0.]], shape=(2, 1), dtype=float32)\n"
     ]
    }
   ],
   "source": [
    "sum_square = tf.math.reduce_sum(square, axis=1, keepdims=True)\n",
    "print(sum_square)\n"
   ]
  },
  {
   "cell_type": "code",
   "execution_count": 10,
   "metadata": {},
   "outputs": [
    {
     "name": "stdout",
     "output_type": "stream",
     "text": [
      "tf.Tensor(\n",
      "[[5.1961522e+00]\n",
      " [3.1622776e-04]], shape=(2, 1), dtype=float32)\n"
     ]
    }
   ],
   "source": [
    "result = tf.math.sqrt(tf.math.maximum(sum_square, K.epsilon()))  \n",
    "print(result)"
   ]
  },
  {
   "cell_type": "code",
   "execution_count": null,
   "metadata": {},
   "outputs": [],
   "source": []
  }
 ],
 "metadata": {
  "interpreter": {
   "hash": "8063a049ce6126424592ab63ae068ec0717401a263e6cd39dbb78c77b7761238"
  },
  "kernelspec": {
   "display_name": "Python 3.6.13 64-bit ('transformers': conda)",
   "name": "python3"
  },
  "language_info": {
   "codemirror_mode": {
    "name": "ipython",
    "version": 3
   },
   "file_extension": ".py",
   "mimetype": "text/x-python",
   "name": "python",
   "nbconvert_exporter": "python",
   "pygments_lexer": "ipython3",
   "version": "3.6.13"
  },
  "orig_nbformat": 4
 },
 "nbformat": 4,
 "nbformat_minor": 2
}
